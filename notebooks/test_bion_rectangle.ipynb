{
 "cells": [
  {
   "cell_type": "code",
   "execution_count": 4,
   "metadata": {},
   "outputs": [
    {
     "name": "stdout",
     "output_type": "stream",
     "text": [
      "The autoreload extension is already loaded. To reload it, use:\n",
      "  %reload_ext autoreload\n"
     ]
    }
   ],
   "source": [
    "import matplotlib.pyplot as plt\n",
    "import torch\n",
    "import numpy as np\n",
    "\n",
    "from tqdm import trange\n",
    "\n",
    "import os\n",
    "import sys\n",
    "\n",
    "sys.path.append('../')\n",
    "\n",
    "from bion_rectangle.behav.slam_pixel_grid import (\n",
    "    AgentState, \n",
    "    Control, \n",
    "    Retina, \n",
    ")\n",
    "from bion_rectangle.environment import (\n",
    "    GenerativeModelSingleEnvContTabular, \n",
    "    ObserverNav, \n",
    ")\n",
    "from bion_rectangle.utils import numpytorch as np2\n",
    "from bion_rectangle.behav.env_boundary import LargeSquare\n",
    "\n",
    "from bion_rectangle.utils.numpytorch import zeros_like as npt_zeros_like\n",
    "from bion_rectangle.utils.numpytorch import pconc2conc\n",
    "from bion_rectangle.utils.np2 import deg2rad\n",
    "\n",
    "from torch import distributions\n",
    "\n",
    "from utils.evaluation_utils import inverse_transform_evaluation_partical_filtering\n",
    "\n",
    "torch.set_default_dtype(torch.float64)\n",
    "\n",
    "import pickle\n",
    "\n",
    "from copy import deepcopy\n",
    "\n",
    "%matplotlib inline\n",
    "%load_ext autoreload\n",
    "%autoreload 2"
   ]
  },
  {
   "cell_type": "code",
   "execution_count": 3,
   "metadata": {},
   "outputs": [],
   "source": [
    "def update_state(obs_cont, control):\n",
    "    dh = control.dheading_deg[-1] * obs_cont.dt\n",
    "    angle = np.deg2rad(obs_cont.gen.agent_state.heading_deg + dh)\n",
    "    dxdy = (np.array([[np.cos(angle), -np.sin(angle)],\n",
    "                      [np.sin(angle), np.cos(angle)]]) @\n",
    "            np.array([control.velocity_ego[0], control.velocity_ego[1]])) * obs_cont.dt\n",
    "    obs_cont.gen.agent_state.set_state((obs_cont.gen.agent_state.loc_xy[0] + dxdy[0],\n",
    "                                    obs_cont.gen.agent_state.loc_xy[1] + dxdy[1]),\n",
    "                                   obs_cont.gen.agent_state.heading_deg + dh)\n",
    "    return"
   ]
  },
  {
   "cell_type": "code",
   "execution_count": 2,
   "metadata": {},
   "outputs": [
    {
     "name": "stdout",
     "output_type": "stream",
     "text": [
      "********************************************************************************\n",
      "WARNING: Imported VTK version (9.3) does not match the one used\n",
      "         to build the TVTK classes (9.2). This may cause problems.\n",
      "         Please rebuild TVTK.\n",
      "********************************************************************************\n",
      "\n"
     ]
    }
   ],
   "source": [
    "env = LargeSquare(contrast=0.5, contrast_btw_walls=0.0, height_wall=.3) # contrast between walls, consider 0.3\n",
    "retina = Retina(fov_deg=(90., 90.), deg_per_pix=2.)\n",
    "gen_cont = GenerativeModelSingleEnvContTabular(env=env, retina=retina)\n",
    "obs_cont = ObserverNav(gen_cont, (0., 0.),\n",
    "                            .85, (0.3, 0.), init_num_particles=5000)\n",
    "\n",
    "\n",
    "agent_pos = torch.tensor([0.3, 0.3, 120.])\n",
    "control = Control(15, (0.1, 0.))\n",
    "obs_cont.gen.agent_state.set_state((agent_pos[0], agent_pos[1]), agent_pos[2])\n",
    "obs_cont.measurement_step(obs_cont.gen.meas, update_state=True)\n",
    "\n",
    "# plot_particles(obs_cont)\n",
    "# plot_visual(obs_cont)\n",
    "# plot_visual(obs_cont, loc=obs_cont.particles.loc[torch.argmax(obs_cont.particles.weight)])\n",
    "obs_cont.resample_cont(MH=False)\n",
    "obs_cont.measurement_step(obs_cont.gen.meas, update_state=True)\n",
    "\n",
    "# plot_visual(obs_cont, i=-1)\n",
    "# plot_particles(obs_cont)\n",
    "obs_cont.particles.downsample(2048)"
   ]
  },
  {
   "cell_type": "code",
   "execution_count": 15,
   "metadata": {},
   "outputs": [],
   "source": [
    "particle_locs_and_hd = np.zeros((21, 2048, 3))\n",
    "true_locs = np.zeros((21, 2))\n",
    "true_hd = np.zeros((21, 1))\n",
    "particle_weights = np.zeros((21, 2048,))\n",
    "\n",
    "particle_locs_and_hd[0] = obs_cont.particles.loc\n",
    "particle_weights[0] = obs_cont.particles.weight\n",
    "true_locs[0] = obs_cont.gen.agent_state.loc_xy\n",
    "true_hd[0] = obs_cont.gen.agent_state.heading_deg"
   ]
  },
  {
   "cell_type": "code",
   "execution_count": 16,
   "metadata": {},
   "outputs": [
    {
     "name": "stderr",
     "output_type": "stream",
     "text": [
      "100%|██████████| 20/20 [04:39<00:00, 13.99s/it]\n"
     ]
    }
   ],
   "source": [
    "\n",
    "with trange(20, dynamic_ncols=True) as pbar:\n",
    "    for i in pbar:\n",
    "        update_state(obs_cont, control)\n",
    "\n",
    "        obs_cont.transition_step(control=control)\n",
    "        obs_cont.measurement_step(obs_cont.gen.meas, update_state=True)\n",
    "        # plot_particles(obs_cont, title=(i, 'predicted', 1 / torch.sum(obs_cont.particles.weight ** 2)))\n",
    "\n",
    "        if (1 / torch.sum(obs_cont.particles.weight ** 2) <\n",
    "            0.1 * obs_cont.particles.n_particle) and i % 5 == 4:\n",
    "            obs_cont.resample_cont(MH=False)\n",
    "        \n",
    "        particle_locs_and_hd[i+1] = obs_cont.particles.loc\n",
    "        particle_weights[i+1] = obs_cont.particles.weight\n",
    "        true_locs[i+1] = obs_cont.gen.agent_state.loc_xy\n",
    "        true_hd[i+1] = obs_cont.gen.agent_state.heading_deg"
   ]
  },
  {
   "cell_type": "code",
   "execution_count": 37,
   "metadata": {},
   "outputs": [
    {
     "data": {
      "text/plain": [
       "<matplotlib.collections.PathCollection at 0x373aae520>"
      ]
     },
     "execution_count": 37,
     "metadata": {},
     "output_type": "execute_result"
    },
    {
     "data": {
      "image/png": "[encoded data removed]",
      "text/plain": [
       "<Figure size 640x480 with 1 Axes>"
      ]
     },
     "metadata": {},
     "output_type": "display_data"
    }
   ],
   "source": [
    "plt.scatter(true_locs[:, 0], true_locs[:, 1])\n",
    "plt.scatter(particle_locs_and_hd[1][:, 0], particle_locs_and_hd[1][:, 1])"
   ]
  },
  {
   "cell_type": "code",
   "execution_count": null,
   "metadata": {},
   "outputs": [],
   "source": []
  },
  {
   "cell_type": "code",
   "execution_count": 30,
   "metadata": {},
   "outputs": [],
   "source": [
    "for i in range(21):\n",
    "    hist_counts, bins_x, bins_y = np.histogram2d(particle_locs_and_hd[i][:, 0], particle_locs_and_hd[i][:, 1], bins=100)\n",
    "    cb = plt.imshow(hist_counts, cmap=\"viridis\")\n",
    "    loc_rescaled = true_locs[i]\n",
    "    loc_rescaled[0] = np.where((loc_rescaled[0] > bins_x))[0][0]\n",
    "    loc_rescaled[1] = np.where((loc_rescaled[1] > bins_y))[0][0]\n",
    "    plt.scatter(loc_rescaled[0], loc_rescaled[1], color=\"red\", s=4)\n",
    "    plt.title(f\"timestep {i}\")\n",
    "    plt.colorbar(cb)\n",
    "    \n",
    "    plt.savefig(f\"../figures/test_bion_rectangle/ts_{i}.png\")\n",
    "    \n",
    "    plt.close(\"all\")"
   ]
  },
  {
   "cell_type": "code",
   "execution_count": 31,
   "metadata": {},
   "outputs": [
    {
     "data": {
      "text/plain": [
       "<matplotlib.colorbar.Colorbar at 0x373d0f280>"
      ]
     },
     "execution_count": 31,
     "metadata": {},
     "output_type": "execute_result"
    },
    {
     "data": {
      "image/png": "[encoded data removed]",
      "text/plain": [
       "<Figure size 640x480 with 2 Axes>"
      ]
     },
     "metadata": {},
     "output_type": "display_data"
    }
   ],
   "source": [
    "hist_counts, bins_x, bins_y = np.histogram2d(particle_locs_and_hd[i][:, 0], particle_locs_and_hd[i][:, 1], bins=100)\n",
    "cb = plt.imshow(hist_counts, cmap=\"viridis\")\n",
    "loc_rescaled = true_locs[i]\n",
    "loc_rescaled[0] = np.where((loc_rescaled[0] > bins_x))[0][0]\n",
    "loc_rescaled[1] = np.where((loc_rescaled[1] > bins_y))[0][0]\n",
    "plt.scatter(loc_rescaled[0], loc_rescaled[1], color=\"red\", s=4)\n",
    "plt.title(f\"timestep {i}\")\n",
    "plt.colorbar(cb)"
   ]
  },
  {
   "cell_type": "code",
   "execution_count": 36,
   "metadata": {},
   "outputs": [
    {
     "data": {
      "text/plain": [
       "array([[0., 0.],\n",
       "       [0., 0.],\n",
       "       [0., 0.],\n",
       "       [0., 0.],\n",
       "       [0., 0.],\n",
       "       [0., 0.],\n",
       "       [0., 0.],\n",
       "       [0., 0.],\n",
       "       [0., 0.],\n",
       "       [0., 0.],\n",
       "       [0., 0.],\n",
       "       [0., 0.],\n",
       "       [0., 0.],\n",
       "       [0., 0.],\n",
       "       [0., 0.],\n",
       "       [0., 0.],\n",
       "       [0., 0.],\n",
       "       [0., 0.],\n",
       "       [0., 0.],\n",
       "       [0., 0.],\n",
       "       [0., 0.]])"
      ]
     },
     "execution_count": 36,
     "metadata": {},
     "output_type": "execute_result"
    }
   ],
   "source": [
    "true_locs"
   ]
  },
  {
   "cell_type": "code",
   "execution_count": 33,
   "metadata": {},
   "outputs": [
    {
     "data": {
      "text/plain": [
       "(array([ 0,  1,  2,  3,  4,  5,  6,  7,  8,  9, 10, 11, 12, 13, 14, 15, 16,\n",
       "        17, 18, 19, 20, 21, 22, 23, 24, 25, 26, 27, 28, 29, 30, 31, 32, 33,\n",
       "        34, 35, 36, 37, 38, 39, 40, 41, 42, 43, 44, 45, 46, 47, 48]),)"
      ]
     },
     "execution_count": 33,
     "metadata": {},
     "output_type": "execute_result"
    }
   ],
   "source": [
    "np.where((loc_rescaled[0] > bins_x))"
   ]
  },
  {
   "cell_type": "code",
   "execution_count": 24,
   "metadata": {},
   "outputs": [
    {
     "data": {
      "text/plain": [
       "<matplotlib.image.AxesImage at 0x2db831b20>"
      ]
     },
     "execution_count": 24,
     "metadata": {},
     "output_type": "execute_result"
    },
    {
     "data": {
      "image/png": "[encoded data removed]",
      "text/plain": [
       "<Figure size 640x480 with 1 Axes>"
      ]
     },
     "metadata": {},
     "output_type": "display_data"
    }
   ],
   "source": [
    "plt.imshow(hist_counts)"
   ]
  },
  {
   "cell_type": "code",
   "execution_count": 16,
   "metadata": {},
   "outputs": [
    {
     "data": {
      "text/plain": [
       "tensor([1.3738e-04, 1.0053e-07, 8.7880e-06,  ..., 2.4055e-04, 5.1054e-04,\n",
       "        1.1051e-04])"
      ]
     },
     "execution_count": 16,
     "metadata": {},
     "output_type": "execute_result"
    }
   ],
   "source": [
    "obs_cont.measurement_step(obs_cont.gen.meas, update_state=True)"
   ]
  },
  {
   "cell_type": "code",
   "execution_count": 1,
   "metadata": {},
   "outputs": [
    {
     "ename": "NameError",
     "evalue": "name 'torch' is not defined",
     "output_type": "error",
     "traceback": [
      "\u001b[0;31m---------------------------------------------------------------------------\u001b[0m",
      "\u001b[0;31mNameError\u001b[0m                                 Traceback (most recent call last)",
      "Input \u001b[0;32mIn [1]\u001b[0m, in \u001b[0;36m<cell line: 2>\u001b[0;34m()\u001b[0m\n\u001b[1;32m      1\u001b[0m i \u001b[38;5;241m=\u001b[39m \u001b[38;5;241m0\u001b[39m\n\u001b[0;32m----> 2\u001b[0m \u001b[38;5;28;01mif\u001b[39;00m (\u001b[38;5;241m1\u001b[39m \u001b[38;5;241m/\u001b[39m \u001b[43mtorch\u001b[49m\u001b[38;5;241m.\u001b[39msum(obs_cont\u001b[38;5;241m.\u001b[39mparticles\u001b[38;5;241m.\u001b[39mweight \u001b[38;5;241m*\u001b[39m\u001b[38;5;241m*\u001b[39m \u001b[38;5;241m2\u001b[39m) \u001b[38;5;241m<\u001b[39m\n\u001b[1;32m      3\u001b[0m     \u001b[38;5;241m0.1\u001b[39m \u001b[38;5;241m*\u001b[39m obs_cont\u001b[38;5;241m.\u001b[39mparticles\u001b[38;5;241m.\u001b[39mn_particle) \u001b[38;5;129;01mand\u001b[39;00m i \u001b[38;5;241m%\u001b[39m \u001b[38;5;241m5\u001b[39m \u001b[38;5;241m==\u001b[39m \u001b[38;5;241m4\u001b[39m:\n\u001b[1;32m      4\u001b[0m     obs_cont\u001b[38;5;241m.\u001b[39mresample_cont(MH\u001b[38;5;241m=\u001b[39m\u001b[38;5;28;01mFalse\u001b[39;00m)\n",
      "\u001b[0;31mNameError\u001b[0m: name 'torch' is not defined"
     ]
    }
   ],
   "source": [
    "i = 0\n",
    "if (1 / torch.sum(obs_cont.particles.weight ** 2) <\n",
    "    0.1 * obs_cont.particles.n_particle) and i % 5 == 4:\n",
    "    obs_cont.resample_cont(MH=False)"
   ]
  },
  {
   "cell_type": "code",
   "execution_count": 6,
   "metadata": {},
   "outputs": [],
   "source": [
    "noise_control_rotate_pconc = None\n",
    "noise_control_shift = None\n",
    "noise_control_shift_per_speed = None\n",
    "\n",
    "if noise_control_rotate_pconc is None:\n",
    "    noise_control_rotate_pconc = obs_cont.noise_control_rotate_pconc[0]\n",
    "else:\n",
    "    noise_control_rotate_pconc = noise_control_rotate_pconc + \\\n",
    "                                    npt_zeros_like(\n",
    "                                        obs_cont.noise_control_rotate_pconc[0])\n",
    "\n",
    "if noise_control_shift is None:\n",
    "    noise_control_shift = obs_cont.noise_control_shift[:]\n",
    "else:\n",
    "    noise_control_shift = noise_control_shift + npt_zeros_like(\n",
    "        obs_cont.noise_control_shift[:])\n",
    "\n",
    "if noise_control_shift_per_speed is None:\n",
    "    noise_control_shift_per_speed = \\\n",
    "        obs_cont.noise_control_shift_per_speed[:]\n",
    "else:\n",
    "    noise_control_shift_per_speed = \\\n",
    "        noise_control_shift_per_speed + npt_zeros_like(\n",
    "            obs_cont.noise_control_shift_per_speed[:])"
   ]
  },
  {
   "cell_type": "code",
   "execution_count": 7,
   "metadata": {},
   "outputs": [],
   "source": [
    "headings = obs_cont.particles.loc[..., -1] + torch.rad2deg(\n",
    "            distributions.VonMises(torch.deg2rad(control.dheading_deg[..., -1]) * obs_cont.dt,\n",
    "                                    pconc2conc(noise_control_rotate_pconc) /\n",
    "                                    (torch.abs(torch.deg2rad(control.dheading_deg[..., -1]))\n",
    "                                    * obs_cont.dt)\n",
    "                                    ).sample(torch.Size([obs_cont.particles.n_particle])))"
   ]
  },
  {
   "cell_type": "code",
   "execution_count": 8,
   "metadata": {},
   "outputs": [],
   "source": [
    "rate = (control.velocity_ego[0] /\n",
    "        (obs_cont.dt * control.velocity_ego[0] * noise_control_shift_per_speed[0]) ** 2)\n",
    "conc = control.velocity_ego[0] * rate"
   ]
  },
  {
   "cell_type": "code",
   "execution_count": 26,
   "metadata": {},
   "outputs": [
    {
     "data": {
      "text/plain": [
       "tensor(0.1000, dtype=torch.float32)"
      ]
     },
     "execution_count": 26,
     "metadata": {},
     "output_type": "execute_result"
    }
   ],
   "source": []
  },
  {
   "cell_type": "code",
   "execution_count": 14,
   "metadata": {},
   "outputs": [
    {
     "data": {
      "text/plain": [
       "torch.float32"
      ]
     },
     "execution_count": 14,
     "metadata": {},
     "output_type": "execute_result"
    }
   ],
   "source": [
    "rate.dtype"
   ]
  },
  {
   "cell_type": "code",
   "execution_count": 14,
   "metadata": {},
   "outputs": [],
   "source": [
    "rot = torch.stack([torch.stack([torch.cos(deg2rad(headings)),\n",
    "                    torch.sin(deg2rad(headings))], -1),\n",
    "        torch.stack([-torch.sin(deg2rad(headings)),\n",
    "                    torch.cos(deg2rad(headings))], -1)],\n",
    "        -1)"
   ]
  },
  {
   "cell_type": "code",
   "execution_count": 15,
   "metadata": {},
   "outputs": [],
   "source": [
    "new_loc = obs_cont.particles.loc[..., :2] + (rot @ torch.stack(\n",
    "    [distributions.Gamma(conc,\n",
    "                            rate).rsample([obs_cont.particles.n_particle]),\n",
    "        distributions.Normal(0, (obs_cont.dt *\n",
    "                                control.velocity_ego[0] *\n",
    "                                noise_control_shift_per_speed[1]) ** 2).rsample(\n",
    "            [obs_cont.particles.n_particle])], -1)[..., None])[..., 0]"
   ]
  },
  {
   "cell_type": "code",
   "execution_count": 10,
   "metadata": {},
   "outputs": [
    {
     "data": {
      "text/plain": [
       "torch.float64"
      ]
     },
     "execution_count": 10,
     "metadata": {},
     "output_type": "execute_result"
    }
   ],
   "source": [
    "distributions.Gamma(conc,rate).rsample([obs_cont.particles.n_particle]).dtype"
   ]
  },
  {
   "cell_type": "code",
   "execution_count": 7,
   "metadata": {},
   "outputs": [],
   "source": [
    "with open(\"../logdir/test_bion_rectangle/S20_T20_P2048.pkl\", \"rb\") as f:\n",
    "    d = pickle.load(f)\n",
    "f.close()\n",
    "\n",
    "particle_loc_and_hd = d[\"particle_state\"]\n",
    "particle_weights = d[\"particle_weight\"]\n",
    "true_locs = d[\"true_locs\"]\n",
    "true_hd = d[\"true_hd\"]"
   ]
  },
  {
   "cell_type": "code",
   "execution_count": 10,
   "metadata": {},
   "outputs": [],
   "source": [
    "particle_locs_flatten = particle_loc_and_hd[..., :2][:, 1:, ...].reshape(-1, 2048, 2)\n",
    "true_locs_flatten = true_locs[:, 1:, :].reshape(-1, 2)\n",
    "particle_weights_flatten = particle_weights[:, 1:, ...].reshape(-1, 2048)"
   ]
  },
  {
   "cell_type": "code",
   "execution_count": 11,
   "metadata": {},
   "outputs": [
    {
     "data": {
      "text/plain": [
       "(400, 2048, 2)"
      ]
     },
     "execution_count": 11,
     "metadata": {},
     "output_type": "execute_result"
    }
   ],
   "source": [
    "particle_locs_flatten.shape"
   ]
  },
  {
   "cell_type": "code",
   "execution_count": 12,
   "metadata": {},
   "outputs": [
    {
     "data": {
      "text/plain": [
       "(400, 2)"
      ]
     },
     "execution_count": 12,
     "metadata": {},
     "output_type": "execute_result"
    }
   ],
   "source": [
    "true_locs_flatten.shape"
   ]
  },
  {
   "cell_type": "code",
   "execution_count": 13,
   "metadata": {},
   "outputs": [
    {
     "data": {
      "text/plain": [
       "(400, 2048)"
      ]
     },
     "execution_count": 13,
     "metadata": {},
     "output_type": "execute_result"
    }
   ],
   "source": [
    "particle_weights_flatten.shape"
   ]
  },
  {
   "cell_type": "code",
   "execution_count": 21,
   "metadata": {},
   "outputs": [
    {
     "data": {
      "text/plain": [
       "<matplotlib.legend.Legend at 0x175c8d940>"
      ]
     },
     "execution_count": 21,
     "metadata": {},
     "output_type": "execute_result"
    },
    {
     "data": {
      "image/png": "[encoded data removed]",
      "text/plain": [
       "<Figure size 640x480 with 1 Axes>"
      ]
     },
     "metadata": {},
     "output_type": "display_data"
    }
   ],
   "source": [
    "fig, ax = plt.subplots()\n",
    "_, _ = inverse_transform_evaluation_partical_filtering(particle_locs_flatten, true_locs_flatten, particle_weights_flatten, dim=0, label=\"dim0\", ax=ax, color=\"blue\")\n",
    "_, _ = inverse_transform_evaluation_partical_filtering(particle_locs_flatten, true_locs_flatten, particle_weights_flatten, dim=1, label=\"dim1\", ax=ax, color=\"red\")\n",
    "ax.legend()"
   ]
  },
  {
   "cell_type": "code",
   "execution_count": null,
   "metadata": {},
   "outputs": [],
   "source": []
  }
 ],
 "metadata": {
  "kernelspec": {
   "display_name": "cyu_arm",
   "language": "python",
   "name": "python3"
  },
  "language_info": {
   "codemirror_mode": {
    "name": "ipython",
    "version": 3
   },
   "file_extension": ".py",
   "mimetype": "text/x-python",
   "name": "python",
   "nbconvert_exporter": "python",
   "pygments_lexer": "ipython3",
   "version": "3.9.13"
  }
 },
 "nbformat": 4,
 "nbformat_minor": 2
}
