{
 "cells": [
  {
   "cell_type": "code",
   "execution_count": 6,
   "metadata": {},
   "outputs": [],
   "source": [
    "import os\n",
    "import sys\n",
    "\n",
    "import numpy as np\n",
    "import matplotlib.pyplot as plt\n",
    "\n",
    "sys.path.append('../')\n",
    "\n",
    "from particle_filtering import particle_filtering_SIR\n",
    "from environment_dynamics import RobotNavigationEnvSimple\n",
    "from transition_kernels import RobotGaussianTransitionKernel\n",
    "from observation_kernels import RobotGaussianLandmarkObservationKernel\n",
    "from estimate_state import estimate_mean_variance_robot_location\n",
    "\n",
    "%matplotlib inline"
   ]
  },
  {
   "cell_type": "code",
   "execution_count": 23,
   "metadata": {},
   "outputs": [],
   "source": [
    "seed = 2\n",
    "\n",
    "np.random.seed(seed)\n",
    "\n",
    "landmarks = np.array([\n",
    "    [-1, 2], \n",
    "    [5, 10], \n",
    "    [12, 14], \n",
    "    [18, 21], \n",
    "])\n",
    "\n",
    "num_particles = 5000\n",
    "num_iters = 8\n",
    "\n",
    "resampling_method = \"systematic\"\n",
    "\n",
    "initial_state = np.array([0., 0.])\n",
    "\n",
    "init_particles_kwargs = {\n",
    "    \"x_range\": np.array([0, 20]), \n",
    "    \"y_range\": np.array([0, 20]), \n",
    "    \"hd_range\": np.array([0, 2*np.pi]), \n",
    "}\n",
    "\n",
    "sensor_obs_std = 0.1\n",
    "init_env_kwargs = {\n",
    "    \"obs_std\": sensor_obs_std, \n",
    "    \"landmarks\": landmarks, \n",
    "}\n",
    "\n",
    "control_std = np.array([0.2, 0.05])\n",
    "prediction_kwargs = {\n",
    "    \"u_std\": control_std, \n",
    "}\n",
    "\n",
    "transition_kernel_kwargs = {}\n",
    "\n",
    "observation_kernel_kwargs = {\n",
    "    \"landmarks\": landmarks, \n",
    "    \"obs_std\": sensor_obs_std, \n",
    "}"
   ]
  },
  {
   "cell_type": "code",
   "execution_count": 24,
   "metadata": {},
   "outputs": [],
   "source": [
    "true_state_history, estimate_state_history, particle_history = particle_filtering_SIR(\n",
    "    num_particles=num_particles, \n",
    "    num_iters=num_iters, \n",
    "    init_true_state=initial_state, \n",
    "    env_cls=RobotNavigationEnvSimple, \n",
    "    transition_kernel=RobotGaussianTransitionKernel, \n",
    "    observation_kernel=RobotGaussianLandmarkObservationKernel, \n",
    "    estimate_state_fn=estimate_mean_variance_robot_location, \n",
    "    save_particles=True, \n",
    "    resampling_method=resampling_method, \n",
    "    init_particles_kwargs=init_particles_kwargs, \n",
    "    init_env_kwargs=init_env_kwargs, \n",
    "    pred_kwargs=prediction_kwargs, \n",
    "    transition_kernel_kwargs=transition_kernel_kwargs, \n",
    "    observation_kernel_kwargs=observation_kernel_kwargs, \n",
    ")"
   ]
  },
  {
   "cell_type": "code",
   "execution_count": 25,
   "metadata": {},
   "outputs": [
    {
     "data": {
      "text/plain": [
       "[array([1., 1.]),\n",
       " array([2., 2.]),\n",
       " array([3., 3.]),\n",
       " array([4., 4.]),\n",
       " array([5., 5.]),\n",
       " array([6., 6.]),\n",
       " array([7., 7.]),\n",
       " array([8., 8.])]"
      ]
     },
     "execution_count": 25,
     "metadata": {},
     "output_type": "execute_result"
    }
   ],
   "source": [
    "true_state_history"
   ]
  },
  {
   "cell_type": "code",
   "execution_count": 26,
   "metadata": {},
   "outputs": [
    {
     "data": {
      "text/plain": [
       "[(array([0.98313286, 1.19990282]), array([4.97336165e-04, 5.96917689e-05])),\n",
       " (array([0.64241889, 2.79012105]), array([7.81408728e-07, 1.73092665e-04])),\n",
       " (array([0.89959891, 4.34954454]), array([3.30634961e-06, 6.29833939e-05])),\n",
       " (array([1.16932335, 5.91646807]), array([1.18085787e-06, 3.60414827e-05])),\n",
       " (array([1.20360594, 7.51855607]), array([3.77781552e-07, 3.55223867e-05])),\n",
       " (array([1.51456118, 9.09593529]), array([2.78362124e-07, 1.20636518e-05])),\n",
       " (array([ 1.65301474, 10.66912919]), array([2.13076069e-07, 2.75232024e-05])),\n",
       " (array([ 1.81714106, 12.23505554]), array([4.13827568e-07, 3.70563056e-05]))]"
      ]
     },
     "execution_count": 26,
     "metadata": {},
     "output_type": "execute_result"
    }
   ],
   "source": [
    "estimate_state_history"
   ]
  },
  {
   "cell_type": "code",
   "execution_count": null,
   "metadata": {},
   "outputs": [],
   "source": []
  }
 ],
 "metadata": {
  "kernelspec": {
   "display_name": "cyu_arm",
   "language": "python",
   "name": "python3"
  },
  "language_info": {
   "codemirror_mode": {
    "name": "ipython",
    "version": 3
   },
   "file_extension": ".py",
   "mimetype": "text/x-python",
   "name": "python",
   "nbconvert_exporter": "python",
   "pygments_lexer": "ipython3",
   "version": "3.9.13"
  }
 },
 "nbformat": 4,
 "nbformat_minor": 2
}
